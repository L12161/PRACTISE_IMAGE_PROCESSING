{
  "nbformat": 4,
  "nbformat_minor": 0,
  "metadata": {
    "colab": {
      "name": "OOP_SHIKHI.ipynb",
      "provenance": [],
      "authorship_tag": "ABX9TyMX/DlibUAT9PeiIRUz0PKK",
      "include_colab_link": true
    },
    "kernelspec": {
      "name": "python3",
      "display_name": "Python 3"
    },
    "language_info": {
      "name": "python"
    }
  },
  "cells": [
    {
      "cell_type": "markdown",
      "metadata": {
        "id": "view-in-github",
        "colab_type": "text"
      },
      "source": [
        "<a href=\"https://colab.research.google.com/github/L12161/PRACTISE_IMAGE_PROCESSING/blob/main/OOP_SHIKHI.ipynb\" target=\"_parent\"><img src=\"https://colab.research.google.com/assets/colab-badge.svg\" alt=\"Open In Colab\"/></a>"
      ]
    },
    {
      "cell_type": "code",
      "metadata": {
        "id": "OkCxmsv2fzyO",
        "colab": {
          "base_uri": "https://localhost:8080/"
        },
        "outputId": "eb89fb76-f2b7-43d4-a1a0-47a8050c1327"
      },
      "source": [
        "x=1\n",
        "type(x)"
      ],
      "execution_count": 1,
      "outputs": [
        {
          "output_type": "execute_result",
          "data": {
            "text/plain": [
              "int"
            ]
          },
          "metadata": {
            "tags": []
          },
          "execution_count": 1
        }
      ]
    },
    {
      "cell_type": "markdown",
      "metadata": {
        "id": "xv0e_PqTMHVn"
      },
      "source": [
        "What is an object bruh? \n",
        "We see objects all the time. \n"
      ]
    },
    {
      "cell_type": "code",
      "metadata": {
        "colab": {
          "base_uri": "https://localhost:8080/"
        },
        "id": "pTjV5OC8MWAD",
        "outputId": "ffb1c19d-4d95-4a9a-a85b-f6da84abd1da"
      },
      "source": [
        "print(type(x))"
      ],
      "execution_count": 2,
      "outputs": [
        {
          "output_type": "stream",
          "text": [
            "<class 'int'>\n"
          ],
          "name": "stdout"
        }
      ]
    },
    {
      "cell_type": "markdown",
      "metadata": {
        "id": "Nw_j6iv6Ma-W"
      },
      "source": [
        "Woah, whats with that \"class\" infront of the int?? I was only expecting just an 'int'. This is actually an object now. \n",
        "We have created an object named x, which is an integer type object , and the value of the object is 1. \n",
        "Let's try the same thing with a function"
      ]
    },
    {
      "cell_type": "code",
      "metadata": {
        "colab": {
          "base_uri": "https://localhost:8080/"
        },
        "id": "aScGioaXMZj2",
        "outputId": "189fdd11-d780-4cb1-bbcd-073d42aa6e7a"
      },
      "source": [
        "def hello():\n",
        "  print(\"Hello\")\n",
        "print(type(hello))"
      ],
      "execution_count": 3,
      "outputs": [
        {
          "output_type": "stream",
          "text": [
            "<class 'function'>\n"
          ],
          "name": "stdout"
        }
      ]
    },
    {
      "cell_type": "markdown",
      "metadata": {
        "id": "50E1l2ONNGSL"
      },
      "source": [
        "bruh, this is also an object. This is a function object. \n",
        "Whatever you create something in python, it will be an object. \n",
        "Type of an object gives an idea of the restrictions of different possible operations on an object. let's explore METHODS, METHODS are something you can perform on an object"
      ]
    },
    {
      "cell_type": "code",
      "metadata": {
        "colab": {
          "base_uri": "https://localhost:8080/"
        },
        "id": "9CKtQBRuNEnd",
        "outputId": "5d716270-7420-4f0e-8edb-6ea8fa71d267"
      },
      "source": [
        "string=\"hello\"\n",
        "print(string.upper())"
      ],
      "execution_count": 4,
      "outputs": [
        {
          "output_type": "stream",
          "text": [
            "HELLO\n"
          ],
          "name": "stdout"
        }
      ]
    },
    {
      "cell_type": "markdown",
      "metadata": {
        "id": "Jfc3uj87N7l-"
      },
      "source": [
        "bruh, here the .upper() is a method. The method .upper() is acting on a stringtype object. So, how is a method different from a function?\n",
        "Welp, METHOD is actually a FUNCTION that is defined inside a CLASS\n"
      ]
    },
    {
      "cell_type": "markdown",
      "metadata": {
        "id": "3WXVrEL1OP3h"
      },
      "source": [
        "**Creating Class**"
      ]
    },
    {
      "cell_type": "code",
      "metadata": {
        "colab": {
          "base_uri": "https://localhost:8080/",
          "height": 52
        },
        "id": "yGScmw-RN5dM",
        "outputId": "c8a1d014-d9fb-4c62-b51a-f0b9863fc7e8"
      },
      "source": [
        "class dog:\n",
        "  '''\n",
        "  here, bark and sleep are two methods, defined for the class 'dog'\n",
        "  All of our methods will start with the parameter 'self'. What does this parameter mean and how does this parameter work - you might be asking.. welp, I don't know yet\n",
        "\n",
        "  '''\n",
        "  def bark(self):\n",
        "    print(\"bark\")\n",
        "  def sleep(self):\n",
        "    print(\"zzzzz\")\n",
        "\n",
        "d = dog()\n",
        "print(d)\n",
        "'''\n",
        "assigning a variable d , an instance of class dog.\n",
        "I like to think of the 'class dog:' as the cookie cutter and 'dog()' as the cookie made from the cutter\n",
        "\n",
        "'''   "
      ],
      "execution_count": 5,
      "outputs": [
        {
          "output_type": "stream",
          "text": [
            "<__main__.dog object at 0x7f3449405610>\n"
          ],
          "name": "stdout"
        },
        {
          "output_type": "execute_result",
          "data": {
            "application/vnd.google.colaboratory.intrinsic+json": {
              "type": "string"
            },
            "text/plain": [
              "\"\\nassigning a variable d , an instance of class dog.\\nI like to think of the 'class dog:' as the cookie cutter and 'dog()' as the cookie made from the cutter\\n\\n\""
            ]
          },
          "metadata": {
            "tags": []
          },
          "execution_count": 5
        }
      ]
    },
    {
      "cell_type": "markdown",
      "metadata": {
        "id": "zzKCCbJ-P3vL"
      },
      "source": [
        "Now, what tf does these __main__ mean??? bruh. \n",
        "These main is called a module. The default module is 'main'. \n",
        "Idk what modules is, yet"
      ]
    },
    {
      "cell_type": "code",
      "metadata": {
        "colab": {
          "base_uri": "https://localhost:8080/"
        },
        "id": "U0beOwcNP1m6",
        "outputId": "1dedac2e-4ff0-4457-96d0-785bb398da7f"
      },
      "source": [
        "d.bark()"
      ],
      "execution_count": 6,
      "outputs": [
        {
          "output_type": "stream",
          "text": [
            "bark\n"
          ],
          "name": "stdout"
        }
      ]
    },
    {
      "cell_type": "code",
      "metadata": {
        "colab": {
          "base_uri": "https://localhost:8080/"
        },
        "id": "KgJHDMdrQJmA",
        "outputId": "bd2c01de-3fbc-4bde-d22f-15ebcef9b08e"
      },
      "source": [
        "d.sleep()"
      ],
      "execution_count": 7,
      "outputs": [
        {
          "output_type": "stream",
          "text": [
            "zzzzz\n"
          ],
          "name": "stdout"
        }
      ]
    },
    {
      "cell_type": "markdown",
      "metadata": {
        "id": "npjPxWZjQPP3"
      },
      "source": [
        "Conventionally , we use capital letters to start the name of a class. "
      ]
    },
    {
      "cell_type": "code",
      "metadata": {
        "colab": {
          "base_uri": "https://localhost:8080/"
        },
        "id": "4qNskswBQK6w",
        "outputId": "e3c36b0e-5d7e-46dd-b7b3-7724177137da"
      },
      "source": [
        "# We can make methods and pass parameters to them too. \n",
        "class one_up:\n",
        "  def add_one(self,given_variable):\n",
        "    return given_variable+ 1\n",
        "just_a_variable = one_up()\n",
        "just_a_variable.add_one(4)"
      ],
      "execution_count": 9,
      "outputs": [
        {
          "output_type": "execute_result",
          "data": {
            "text/plain": [
              "5"
            ]
          },
          "metadata": {
            "tags": []
          },
          "execution_count": 9
        }
      ]
    },
    {
      "cell_type": "markdown",
      "metadata": {
        "id": "Cy038i1iRKSu"
      },
      "source": [
        "# **So, what is the init method???**"
      ]
    },
    {
      "cell_type": "code",
      "metadata": {
        "id": "lRX9V1f4RDHO"
      },
      "source": [
        ""
      ],
      "execution_count": null,
      "outputs": []
    }
  ]
}