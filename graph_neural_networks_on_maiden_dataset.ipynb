{
  "nbformat": 4,
  "nbformat_minor": 0,
  "metadata": {
    "colab": {
      "name": "graph_neural_networks_on_maiden_dataset.ipynb",
      "provenance": [],
      "authorship_tag": "ABX9TyNzIcI8RDoIqtvP0UMLAA+L",
      "include_colab_link": true
    },
    "kernelspec": {
      "name": "python3",
      "display_name": "Python 3"
    },
    "language_info": {
      "name": "python"
    }
  },
  "cells": [
    {
      "cell_type": "markdown",
      "metadata": {
        "id": "view-in-github",
        "colab_type": "text"
      },
      "source": [
        "<a href=\"https://colab.research.google.com/github/L12161/PRACTISE_IMAGE_PROCESSING/blob/main/graph_neural_networks_on_maiden_dataset.ipynb\" target=\"_parent\"><img src=\"https://colab.research.google.com/assets/colab-badge.svg\" alt=\"Open In Colab\"/></a>"
      ]
    },
    {
      "cell_type": "code",
      "metadata": {
        "colab": {
          "base_uri": "https://localhost:8080/"
        },
        "id": "I3Gvv1-N6oFw",
        "outputId": "65c43e86-ecbc-4d99-ee55-41c005ef3698"
      },
      "source": [
        "print(\"It's raining outside, 4am in the morning, and I've not slept a single bit\")"
      ],
      "execution_count": 1,
      "outputs": [
        {
          "output_type": "stream",
          "text": [
            "It's raining outside, 4am in the morning, and I've not slept a single bit\n"
          ],
          "name": "stdout"
        }
      ]
    },
    {
      "cell_type": "code",
      "metadata": {
        "id": "Ngbwfb_061Gt"
      },
      "source": [
        "import networkx as nx\n",
        "G=nx.Graph()"
      ],
      "execution_count": 4,
      "outputs": []
    },
    {
      "cell_type": "code",
      "metadata": {
        "id": "A-hoWGiW8kRk"
      },
      "source": [
        "G.add_edges_from([(1,2),(2,3),(3,4),(4,1),(3,1)])"
      ],
      "execution_count": 7,
      "outputs": []
    },
    {
      "cell_type": "code",
      "metadata": {
        "id": "MjmUe8fK_Av6"
      },
      "source": [
        "import random"
      ],
      "execution_count": 17,
      "outputs": []
    },
    {
      "cell_type": "code",
      "metadata": {
        "id": "2G9MYTPH8_ED"
      },
      "source": [
        "def get_random_walk(graph:nx.Graph, node:1, n_steps:int = 4):\n",
        "  local_path = [str(node),]\n",
        "  target_node = node\n",
        "  for _ in range(n_steps):\n",
        "      neighbors = list(nx.all_neighbors(graph, target_node))\n",
        "      target_node = random.choice(neighbors)\n",
        "      local_path.append(str(target_node))\n",
        "  return local_path\n"
      ],
      "execution_count": 18,
      "outputs": []
    },
    {
      "cell_type": "code",
      "metadata": {
        "id": "KhovuKeQ-vVa"
      },
      "source": [
        "walk_paths = []\n",
        "for node in G.nodes():\n",
        "   for _ in range(10):\n",
        "      walk_paths.append(get_random_walk(G, node))"
      ],
      "execution_count": 19,
      "outputs": []
    },
    {
      "cell_type": "code",
      "metadata": {
        "colab": {
          "base_uri": "https://localhost:8080/"
        },
        "id": "tw8JT5kC_ETy",
        "outputId": "a9178e46-5d3b-4c1e-8925-1983a091f397"
      },
      "source": [
        "walk_paths[0]"
      ],
      "execution_count": 20,
      "outputs": [
        {
          "output_type": "execute_result",
          "data": {
            "text/plain": [
              "['1', '4', '1', '4', '1']"
            ]
          },
          "metadata": {
            "tags": []
          },
          "execution_count": 20
        }
      ]
    },
    {
      "cell_type": "code",
      "metadata": {
        "id": "bLrz0CKF-JSK"
      },
      "source": [
        "from gensim.test.utils import common_texts\n",
        "from gensim.models import Word2Vec\n",
        "embedder = Word2Vec(\n",
        "   window=4, sg=1, hs=0, negative=10, alpha=0.03, min_alpha=0.0001,    \n",
        "   seed=42\n",
        ")"
      ],
      "execution_count": 11,
      "outputs": []
    },
    {
      "cell_type": "code",
      "metadata": {
        "id": "997rqdMD-u07"
      },
      "source": [
        ""
      ],
      "execution_count": null,
      "outputs": []
    },
    {
      "cell_type": "code",
      "metadata": {
        "id": "qJhSA0Ix-U2h"
      },
      "source": [
        "embedder.build_vocab(walk_paths, progress_per=2)"
      ],
      "execution_count": 21,
      "outputs": []
    },
    {
      "cell_type": "code",
      "metadata": {
        "colab": {
          "base_uri": "https://localhost:8080/"
        },
        "id": "443BKKjx-ktq",
        "outputId": "9e470bb9-ce9e-4e53-f7bf-a46d2074e1ea"
      },
      "source": [
        "# Train\n",
        "embedder.train(\n",
        "   walk_paths, total_examples=embedder.corpus_count, epochs=20, \n",
        "   report_delay=1\n",
        ")\n"
      ],
      "execution_count": 22,
      "outputs": [
        {
          "output_type": "execute_result",
          "data": {
            "text/plain": [
              "(263, 4000)"
            ]
          },
          "metadata": {
            "tags": []
          },
          "execution_count": 22
        }
      ]
    },
    {
      "cell_type": "code",
      "metadata": {
        "id": "Vysnts5z_NRB"
      },
      "source": [
        ""
      ],
      "execution_count": null,
      "outputs": []
    }
  ]
}